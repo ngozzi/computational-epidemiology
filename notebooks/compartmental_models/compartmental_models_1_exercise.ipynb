{
 "cells": [
  {
   "cell_type": "code",
   "execution_count": null,
   "metadata": {},
   "outputs": [],
   "source": [
    "import pandas as pd \n",
    "import numpy as np \n",
    "import matplotlib.pyplot as plt"
   ]
  },
  {
   "cell_type": "markdown",
   "metadata": {},
   "source": [
    "# SI Model\n",
    "\n",
    "Implement the SI model using the simple Euler method: \n",
    "\n",
    "$$S + I \\rightarrow_{\\beta} 2I$$\n",
    "\n",
    "Verify that the model is correct by plotting the results and that is matches the analytical solution:\n",
    "\n",
    "$$I(t) = \\frac{N I_0}{I_0 + S_0 e^{-\\beta t}}$$\n",
    "\n",
    "Consider: \n",
    "- $\\beta = 0.3$\n",
    "- $N=10^5$\n",
    "- $I_0=10$\n",
    "- $T_{final}=100$\n",
    "- $dt=0.05$"
   ]
  },
  {
   "cell_type": "code",
   "execution_count": null,
   "metadata": {},
   "outputs": [],
   "source": [
    "def si_model(beta, N, I0, T_final, dt=1):\n",
    "    \"\"\"\n",
    "    Function to simulate the SI model.\n",
    "\n",
    "    Parameters:\n",
    "        beta (float): Infection rate\n",
    "        N (int): Total population size\n",
    "        I0 (int): Initial number of infected individuals\n",
    "        T_final (float): Final time to simulate\n",
    "\n",
    "    Returns:\n",
    "        S (array): Array of susceptible individuals over time\n",
    "        I (array): Array of infected individuals over time\n",
    "        steps (array): Array of time steps over time\n",
    "    \"\"\"\n",
    "    S, I = [], []\n",
    "    steps = None\n",
    "\n",
    "    ## complete the code below\n",
    "    \n",
    "    return np.array(S), np.array(I), np.array(steps)\n",
    "\n",
    "def si_analytical_solution(beta, N, I0, t):\n",
    "    return N * I0 / (I0 + (N - I0) * np.exp(-beta * t))"
   ]
  },
  {
   "cell_type": "code",
   "execution_count": null,
   "metadata": {},
   "outputs": [],
   "source": [
    "S, I, steps = si_model(beta=0.3, N=10**5, I0=10, T_final=100, dt=0.05)\n",
    "I_solution = np.array([si_analytical_solution(beta=0.3, N=10**5, I0=10, t=t) for t in steps])\n",
    "\n",
    "# plot S, I and analytical solution\n",
    "plt.figure(figsize=(10, 6), dpi=300)\n",
    "\n",
    "## complete the code below"
   ]
  },
  {
   "cell_type": "markdown",
   "metadata": {},
   "source": [
    "# SIS Model\n",
    "\n",
    "Implement the SIS model using the simple Euler method.\n",
    "\n",
    "$$S + I \\rightarrow_{\\beta} 2I$$\n",
    "$$I \\rightarrow_{\\mu} S$$\n",
    "\n",
    "Verify that the model is correct by plotting the results and that is matches the analytical solution:\n",
    "\n",
    "$$I(t) = \\frac{N (\\beta - \\mu) I_0}{\\beta I_0 + (\\beta S_0 - \\mu N) e^{-\\mu (R_0 -1) t}}$$\n",
    "\n",
    "\n",
    "Consider: \n",
    "- $\\beta = 0.3$\n",
    "- $\\mu = 0.1$\n",
    "- $N=10^5$\n",
    "- $I_0=10$\n",
    "- $T_{final}=100$\n",
    "- $dt=0.05$"
   ]
  },
  {
   "cell_type": "code",
   "execution_count": null,
   "metadata": {},
   "outputs": [],
   "source": [
    "def sis_model(beta, mu, N, I0, T_final, dt=1):\n",
    "    \"\"\"\n",
    "    Function to simulate the SIS model.\n",
    "\n",
    "    Parameters:\n",
    "        beta (float): Infection rate\n",
    "        gamma (float): Recovery rate\n",
    "        N (int): Total population size\n",
    "        I0 (int): Initial number of infected individuals\n",
    "        T_final (float): Final time to simulate\n",
    "\n",
    "    Returns:\n",
    "        S (array): Array of susceptible individuals over time\n",
    "        I (array): Array of infected individuals over time\n",
    "        steps (array): Array of time steps over time\n",
    "    \"\"\"\n",
    "    S, I = [], []\n",
    "    steps = None\n",
    "\n",
    "    ## complete the code below\n",
    "\n",
    "    return np.array(S), np.array(I), np.array(steps)\n",
    "\n",
    "def sis_analytical_solution(beta, mu, N, I0, t):\n",
    "    return (N * (beta - mu) * I0) / (beta * I0 + (beta * (N - I0) - mu * N) * np.exp(-mu * (beta / mu - 1) * t))"
   ]
  },
  {
   "cell_type": "code",
   "execution_count": null,
   "metadata": {},
   "outputs": [],
   "source": [
    "S, I, steps = sis_model(beta=0.3, mu=0.1, N=10**5, I0=10, T_final=100, dt=0.05)\n",
    "I_solution = np.array([sis_analytical_solution(beta=0.3, mu=0.1, N=10**5, I0=10, t=t) for t in steps])\n",
    "\n",
    "# plot S, I and analytical solution\n",
    "plt.figure(figsize=(10, 6), dpi=300)\n",
    "\n",
    "## complete the code below"
   ]
  },
  {
   "cell_type": "markdown",
   "metadata": {},
   "source": [
    "Verify the equilibrium state of the SIS model:\n",
    "\n",
    "$$I(\\infty) = N (1 - \\frac{1}{R_0})$$\n",
    "\n"
   ]
  },
  {
   "cell_type": "code",
   "execution_count": null,
   "metadata": {},
   "outputs": [],
   "source": [
    "def equilibrium_SIS(beta, mu, N): \n",
    "    return N * (1 - mu / beta)\n",
    "\n",
    "mu = 0.1\n",
    "N, I0 = 10**5, 10\n",
    "\n",
    "I_inf, I_inf_analytical = [], []\n",
    "R0s = np.linspace(1.05, 4, 100)\n",
    "\n",
    "## complete the code below (for R0 in R0s...)\n",
    "\n",
    "# plot\n",
    "## complete the code below"
   ]
  },
  {
   "cell_type": "markdown",
   "metadata": {},
   "source": [
    "# SIR Model\n",
    "\n",
    "Implement the SIR model using the simple Euler method.\n",
    "\n",
    "$$S + I \\rightarrow_{\\beta} 2I$$\n",
    "$$I \\rightarrow_{\\mu} R$$\n",
    "\n",
    "Verify that the model is correct by plotting the results.\n",
    "\n",
    "Consider: \n",
    "- $\\beta = 0.3$\n",
    "- $\\mu = 0.1$\n",
    "- $N=10^5$\n",
    "- $I_0=10$\n",
    "- $T_{final}=100$\n",
    "- $dt=0.05$"
   ]
  },
  {
   "cell_type": "code",
   "execution_count": null,
   "metadata": {},
   "outputs": [],
   "source": [
    "def sir_model(beta, mu, N, I0, T_final, dt=1):\n",
    "    \"\"\"\n",
    "    Function to simulate the SIR model.\n",
    "\n",
    "    Parameters:\n",
    "        beta (float): Infection rate\n",
    "        gamma (float): Recovery rate\n",
    "        N (int): Total population size\n",
    "        I0 (int): Initial number of infected individuals\n",
    "        T_final (float): Final time to simulate\n",
    "\n",
    "    Returns:\n",
    "        S (array): Array of susceptible individuals over time\n",
    "        I (array): Array of infected individuals over time\n",
    "        R (array): Array of recovered individuals over time\n",
    "        steps (array): Array of time steps over time\n",
    "    \"\"\"\n",
    "    S, I, R = [], [], []\n",
    "    steps = None\n",
    "\n",
    "    ## complete the code below\n",
    "    return np.array(S), np.array(I), np.array(R), np.array(steps)"
   ]
  },
  {
   "cell_type": "code",
   "execution_count": null,
   "metadata": {},
   "outputs": [],
   "source": [
    "S, I, R, steps = sir_model(beta=0.3, mu=0.1, N=10**5, I0=10, T_final=100, dt=0.05)\n",
    "\n",
    "# plot\n",
    "plt.figure(figsize=(10, 6), dpi=300)\n",
    "\n",
    "## complete the code below"
   ]
  },
  {
   "cell_type": "markdown",
   "metadata": {},
   "source": [
    "Test the threshold behavior of the SIR model:\n",
    "\n",
    "$$R_0 = \\beta / \\mu > 1$$\n",
    "\n",
    "Consider $100$ values of $R_0$ between $0$ and $4$."
   ]
  },
  {
   "cell_type": "code",
   "execution_count": null,
   "metadata": {},
   "outputs": [],
   "source": [
    "mu = 0.1\n",
    "N, I0 = 10**5, 10\n",
    "\n",
    "R0s = np.linspace(0, 4, 100)\n",
    "R_inf = []\n",
    "\n",
    "## complete the code below\n",
    "\n",
    "# plotting\n",
    "plt.figure(figsize=(10, 6), dpi=300)\n",
    "plt.plot(R0s, R_inf, label='R($\\infty$)')\n",
    "\n",
    "plt.xlabel('$R_0$')\n",
    "plt.ylabel('R($\\infty$)')\n",
    "plt.title('SIR Model - Threshold Behavior')\n",
    "plt.legend()\n",
    "plt.grid(True)\n",
    "plt.show()"
   ]
  },
  {
   "cell_type": "markdown",
   "metadata": {},
   "source": [
    "Test the validity of Equation for $R_{\\infty}$ using $\\texttt{scipy.optimize.fsolve}$ (https://docs.scipy.org/doc/scipy/reference/generated/scipy.optimize.fsolve.html):\n",
    "\n",
    "$$ N - R(\\infty) - S(0) e^{-\\frac{R(\\infty)}{N}R_0} = 0$$"
   ]
  },
  {
   "cell_type": "code",
   "execution_count": null,
   "metadata": {},
   "outputs": [],
   "source": [
    "from scipy.optimize import fsolve\n",
    "\n",
    "def r_inf_equation(r_inf, N, S0, R0): \n",
    "    return N - r_inf - S0 * np.exp(-r_inf / N * R0)\n",
    "\n",
    "R_inf_analytical = []\n",
    "for R0 in R0s:\n",
    "    beta = R0 * mu\n",
    "    R_inf_analytical.append(fsolve(r_inf_equation, N/2., args=(N, N - I0, beta / mu))[0] / N)\n",
    "\n",
    "# plotting\n",
    "plt.figure(figsize=(10, 6), dpi=300)\n",
    "plt.plot(R0s, R_inf, label='R($\\infty$) - Simulation')\n",
    "plt.scatter(R0s, R_inf_analytical, label='R($\\infty$) - Analytical')\n",
    "plt.xlabel('$R_0$')\n",
    "plt.ylabel('R($\\infty$)')\n",
    "plt.title('SIR Model - Threshold Behavior')\n",
    "plt.legend()\n",
    "plt.grid(True)\n",
    "plt.show()"
   ]
  },
  {
   "cell_type": "markdown",
   "metadata": {},
   "source": [
    "Use $\\texttt{scipy.integrate.odeint}$ (https://docs.scipy.org/doc/scipy/reference/generated/scipy.integrate.odeint.html) to simulate the SIR model"
   ]
  },
  {
   "cell_type": "code",
   "execution_count": null,
   "metadata": {},
   "outputs": [],
   "source": [
    "from scipy.integrate import odeint\n",
    "\n",
    "# define ODE system\n",
    "def sir_model_ode(y, t, beta, mu, N): \n",
    "    dydt = [   # equation for S\n",
    "               # equation for I \n",
    "               # equation for R\n",
    "            ]\n",
    "    return dydt\n",
    "    \n",
    "# initial conditions and parameters\n",
    "beta, mu = 0.3, 0.1\n",
    "N, I0 = 10**5, 10\n",
    "y0 = [N - I0, I0, 0]\n",
    "t = np.linspace(0, 100, 100)\n",
    "\n",
    "# integrate\n",
    "sol = odeint(sir_model_ode, y0, t, args=(beta, mu, N))"
   ]
  },
  {
   "cell_type": "code",
   "execution_count": null,
   "metadata": {},
   "outputs": [],
   "source": [
    "# plot\n",
    "plt.figure(figsize=(10, 6), dpi=300)\n",
    "plt.plot(t, sol[:, 0], label='Susceptible (S)')\n",
    "plt.plot(t, sol[:, 1], label='Infected (I)')\n",
    "plt.plot(t, sol[:, 2], label='Recovered (R)')\n",
    "\n",
    "plt.xlabel('$t$')\n",
    "plt.ylabel('Population')\n",
    "plt.title('SIR Model')\n",
    "plt.legend()\n",
    "plt.grid(True)\n",
    "plt.show()"
   ]
  },
  {
   "cell_type": "markdown",
   "metadata": {},
   "source": [
    "# Stochastic SIR Model\n",
    "\n",
    "Implement the Stochastic SIR model using chain binomial processes.\n",
    "\n",
    "$$S + I \\rightarrow_{\\beta} 2I$$\n",
    "$$I \\rightarrow_{\\mu} R$$\n",
    "\n",
    "Plot the results of single realization, and the results of 100 realizations\n",
    "\n",
    "Consider: \n",
    "- $\\beta = 0.3$\n",
    "- $\\mu = 0.1$\n",
    "- $N=10^3$\n",
    "- $I_0=5$\n",
    "- $T_{final}=100$\n",
    "- $dt=0.05$"
   ]
  },
  {
   "cell_type": "code",
   "execution_count": null,
   "metadata": {},
   "outputs": [],
   "source": [
    "def stochastic_sir_model(beta, mu, N, I0, T_final, dt=1):\n",
    "    \"\"\"\n",
    "    Function to simulate the stochastic SIR model.\n",
    "\n",
    "    Parameters:\n",
    "        beta (float): Infection rate\n",
    "        gamma (float): Recovery rate\n",
    "        N (int): Total population size\n",
    "        I0 (int): Initial number of infected individuals\n",
    "        T_final (float): Final time to simulate\n",
    "\n",
    "    Returns:\n",
    "        S (array): Array of susceptible individuals over time\n",
    "        I (array): Array of infected individuals over time\n",
    "        R (array): Array of recovered individuals over time\n",
    "        steps (array): Array of time steps over time\n",
    "    \"\"\"\n",
    "    S, I, R = [], [], []\n",
    "    steps = None\n",
    "\n",
    "    ## complete the code below\n",
    "\n",
    "    return np.array(S), np.array(I), np.array(R), np.array(steps)\n"
   ]
  },
  {
   "cell_type": "code",
   "execution_count": null,
   "metadata": {},
   "outputs": [],
   "source": [
    "S, I, R, steps = stochastic_sir_model(beta=0.3, mu=0.1, N=10**3, I0=2, T_final=100, dt=0.05)\n",
    "\n",
    "# plot\n",
    "plt.figure(figsize=(10, 6), dpi=300)\n",
    "plt.plot(steps, S, label='Susceptible (S)')\n",
    "plt.plot(steps, I, label='Infected (I)')\n",
    "plt.plot(steps, R, label='Recovered (R)')\n",
    "\n",
    "plt.xlabel('$t$')\n",
    "plt.ylabel('Population')\n",
    "plt.title('SIR Model')\n",
    "plt.legend()\n",
    "plt.grid(True)\n",
    "plt.show()"
   ]
  },
  {
   "cell_type": "markdown",
   "metadata": {},
   "source": [
    "Iterate and compute median and confidence intervals"
   ]
  },
  {
   "cell_type": "code",
   "execution_count": null,
   "metadata": {},
   "outputs": [],
   "source": [
    "infected = []\n",
    "Nsim = 1000\n",
    "## complete the code below\n",
    "\n",
    "# plot median and 95% CI"
   ]
  },
  {
   "cell_type": "markdown",
   "metadata": {},
   "source": [
    "We study the convergence of the stochastic and deterministic SIR models."
   ]
  },
  {
   "cell_type": "code",
   "execution_count": null,
   "metadata": {},
   "outputs": [],
   "source": [
    "peaks = []\n",
    "peaks_std = []\n",
    "for i in range(len(infected)):\n",
    "    peaks.append(infected[:i].max(axis=1).mean())\n",
    "    peaks_std.append(infected[:i].max(axis=1).std())\n",
    "\n",
    "fig, ax = plt.subplots(dpi=300, figsize=(10, 3))\n",
    "plt.plot(range(len(peaks)), peaks, color=\"coral\")\n",
    "plt.fill_between(range(len(peaks)), np.array(peaks) - np.array(peaks_std), np.array(peaks) + np.array(peaks_std), color=\"coral\", alpha=0.4, linewidth=0.)\n",
    "plt.xlabel(\"Stochatic runs\")\n",
    "plt.ylabel(\"I^{max}\")\n",
    "\n",
    "ax.spines[\"top\"].set_visible(False)\n",
    "ax.spines[\"right\"].set_visible(False)\n",
    "ax.grid(axis=\"y\", linestyle=\"--\", alpha=0.6)\n"
   ]
  },
  {
   "cell_type": "code",
   "execution_count": null,
   "metadata": {},
   "outputs": [],
   "source": []
  }
 ],
 "metadata": {
  "kernelspec": {
   "display_name": "base",
   "language": "python",
   "name": "python3"
  },
  "language_info": {
   "codemirror_mode": {
    "name": "ipython",
    "version": 3
   },
   "file_extension": ".py",
   "mimetype": "text/x-python",
   "name": "python",
   "nbconvert_exporter": "python",
   "pygments_lexer": "ipython3",
   "version": "3.8.8"
  }
 },
 "nbformat": 4,
 "nbformat_minor": 2
}
